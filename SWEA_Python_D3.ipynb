{
 "cells": [
  {
   "attachments": {},
   "cell_type": "markdown",
   "metadata": {},
   "source": [
    "### 5642. [Professional] 합\n",
    "\n",
    "[문제 출처](https://swexpertacademy.com/main/code/problem/problemDetail.do?problemLevel=3&contestProbId=AWXQm2SqdxkDFAUo&categoryId=AWXQm2SqdxkDFAUo&categoryType=CODE&problemTitle=&orderBy=FIRST_REG_DATETIME&selectCodeLang=PYTHON&select-1=3&pageSize=10&pageIndex=12)"
   ]
  },
  {
   "cell_type": "code",
   "execution_count": 5,
   "metadata": {},
   "outputs": [
    {
     "name": "stdout",
     "output_type": "stream",
     "text": [
      "#1 15\n"
     ]
    }
   ],
   "source": [
    "tc = int(input())\n",
    "\n",
    "for t in range(tc):\n",
    "    n = int(input())\n",
    "    num = list(map(int, input().split()))\n",
    "\n",
    "    max = num[0] # 음수인 경우\n",
    "    for i in range(1, n):\n",
    "        if (num[i-1] >= 0) and (num[i] + num[i-1] >= 0):\n",
    "            num[i] += num[i-1]\n",
    "        if num[i] > max:\n",
    "            max = num[i]\n",
    "\n",
    "    print(f\"#{t+1} {max}\")"
   ]
  },
  {
   "cell_type": "code",
   "execution_count": 6,
   "metadata": {},
   "outputs": [
    {
     "name": "stdout",
     "output_type": "stream",
     "text": [
      "1\n",
      "4\n",
      "0\n",
      "18\n",
      "10\n",
      "18\n"
     ]
    }
   ],
   "source": [
    "tc = int(input())\n",
    "\n",
    "for t in range(tc):\n",
    "    n = int(input())\n",
    "    num_list = list(map(int, input().split()))\n",
    "\n",
    "    num_sum = 0\n",
    "    max = num_list[0]\n",
    "\n",
    "    for i in range(n):\n",
    "        num_sum += num_list[i]\n",
    "        if num_sum > max:\n",
    "            max = num_sum\n",
    "        \n",
    "        if num_sum < 0:\n",
    "            num_sum = 0\n",
    "\n",
    "    print(f\"#{t+1} {max}\")"
   ]
  },
  {
   "attachments": {},
   "cell_type": "markdown",
   "metadata": {},
   "source": [
    "### 5607. [Professional] 조합 (FAIL...)\n",
    "\n",
    "[문제 출처](https://swexpertacademy.com/main/code/problem/problemDetail.do?problemLevel=3&contestProbId=AWXGKdbqczEDFAUo&categoryId=AWXGKdbqczEDFAUo&categoryType=CODE&problemTitle=&orderBy=FIRST_REG_DATETIME&selectCodeLang=PYTHON&select-1=3&pageSize=10&pageIndex=12)"
   ]
  },
  {
   "cell_type": "code",
   "execution_count": 13,
   "metadata": {},
   "outputs": [
    {
     "name": "stdout",
     "output_type": "stream",
     "text": [
      "45\n"
     ]
    }
   ],
   "source": [
    "tc = int(input())\n",
    "\n",
    "for t in range(tc):\n",
    "    n, r = map(int, input().split())\n",
    "\n",
    "    n1 = 1\n",
    "    r1 = 1\n",
    "    for i in range(n, n-r, -1):\n",
    "        n1 = n1 * i\n",
    "    \n",
    "    for i in range(r, 0, -1):\n",
    "        r1 = r1 * i\n",
    "\n",
    "    print(f\"#{t+1} {int((n1 / r1) % 1234567891)}\")\n",
    "\n"
   ]
  },
  {
   "attachments": {},
   "cell_type": "markdown",
   "metadata": {},
   "source": [
    "### 5603. [Professional] 건초더미\n",
    "\n",
    "[문제 출처](https://swexpertacademy.com/main/code/problem/problemDetail.do?problemLevel=3&contestProbId=AWXGEbd6cjMDFAUo&categoryId=AWXGEbd6cjMDFAUo&categoryType=CODE&problemTitle=&orderBy=FIRST_REG_DATETIME&selectCodeLang=PYTHON&select-1=3&pageSize=10&pageIndex=12)"
   ]
  },
  {
   "cell_type": "code",
   "execution_count": 19,
   "metadata": {},
   "outputs": [
    {
     "name": "stdout",
     "output_type": "stream",
     "text": [
      "#1 7\n"
     ]
    }
   ],
   "source": [
    "tc = int(input())\n",
    "\n",
    "for t in range(tc):\n",
    "    n = int(input())\n",
    "    stack = [int(input()) for i in range(n)]\n",
    "\n",
    "    amount = sum(stack) // n\n",
    "    count = 0\n",
    "\n",
    "    for i in range(n):\n",
    "        count += abs(amount - stack[i])\n",
    "    \n",
    "    print(f\"#{t+1} {int(count//2)}\")"
   ]
  },
  {
   "attachments": {},
   "cell_type": "markdown",
   "metadata": {},
   "source": [
    "### 5601. [Professional] 쥬스 나누기\n",
    "\n",
    "[문제 풀이](https://swexpertacademy.com/main/code/problem/problemDetail.do?problemLevel=3&contestProbId=AWXGAylqcdYDFAUo&categoryId=AWXGAylqcdYDFAUo&categoryType=CODE&problemTitle=&orderBy=FIRST_REG_DATETIME&selectCodeLang=PYTHON&select-1=3&pageSize=10&pageIndex=12)"
   ]
  },
  {
   "cell_type": "code",
   "execution_count": 21,
   "metadata": {},
   "outputs": [
    {
     "name": "stdout",
     "output_type": "stream",
     "text": [
      "#1 1/1 \n",
      "#2 1/2 1/2 \n"
     ]
    }
   ],
   "source": [
    "tc = int(input())\n",
    "\n",
    "for t in range(tc):\n",
    "    n = int(input())\n",
    "\n",
    "    print(f\"#{t+1}\", end=\" \")\n",
    "    for i in range(n):\n",
    "        print(f\"1/{n}\", end=\" \")\n",
    "    print()"
   ]
  },
  {
   "cell_type": "code",
   "execution_count": null,
   "metadata": {},
   "outputs": [],
   "source": []
  }
 ],
 "metadata": {
  "kernelspec": {
   "display_name": "python-algorithm",
   "language": "python",
   "name": "python3"
  },
  "language_info": {
   "codemirror_mode": {
    "name": "ipython",
    "version": 3
   },
   "file_extension": ".py",
   "mimetype": "text/x-python",
   "name": "python",
   "nbconvert_exporter": "python",
   "pygments_lexer": "ipython3",
   "version": "3.10.9"
  },
  "orig_nbformat": 4
 },
 "nbformat": 4,
 "nbformat_minor": 2
}
