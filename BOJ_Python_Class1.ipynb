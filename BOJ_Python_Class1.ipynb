{
 "cells": [
  {
   "attachments": {},
   "cell_type": "markdown",
   "metadata": {},
   "source": [
    "### 11720. 숫자의 합\n",
    "<b>Bronze 4\n",
    "\n",
    "[문제 출처](https://www.acmicpc.net/problem/11720)"
   ]
  },
  {
   "cell_type": "code",
   "execution_count": 4,
   "metadata": {},
   "outputs": [
    {
     "name": "stdout",
     "output_type": "stream",
     "text": [
      "15\n"
     ]
    }
   ],
   "source": [
    "n = int(input())\n",
    "num = input()\n",
    "res = 0\n",
    "\n",
    "for i in range(n):\n",
    "    res += int(num[i])\n",
    "print(res)"
   ]
  },
  {
   "attachments": {},
   "cell_type": "markdown",
   "metadata": {},
   "source": [
    "### 2562. 최댓값\n",
    "<b>Bronze 3\n",
    "\n",
    "[문제 출처](https://www.acmicpc.net/problem/2562)"
   ]
  },
  {
   "cell_type": "code",
   "execution_count": null,
   "metadata": {},
   "outputs": [],
   "source": [
    "number = []\n",
    "for i in range(9):\n",
    "    number.append(int(input()))\n",
    "\n",
    "print(max(number))\n",
    "print(number.index(max(number)) + 1)"
   ]
  },
  {
   "attachments": {},
   "cell_type": "markdown",
   "metadata": {},
   "source": [
    "### 10818. 최소, 최대\n",
    "<b> Bronze 3\n",
    "\n",
    "[문제 출처](https://www.acmicpc.net/problem/10818)"
   ]
  },
  {
   "cell_type": "code",
   "execution_count": null,
   "metadata": {},
   "outputs": [],
   "source": [
    "n = int(input())\n",
    "\n",
    "number = list(map(int, input().split()))\n",
    "\n",
    "print(f\"{min(number)} {max(number)}\")"
   ]
  },
  {
   "attachments": {},
   "cell_type": "markdown",
   "metadata": {},
   "source": [
    "### 1152. 단어의 개수\n",
    "<b> Bronze 2\n",
    "\n",
    "[문제 출처](https://www.acmicpc.net/problem/1152)"
   ]
  },
  {
   "cell_type": "code",
   "execution_count": 5,
   "metadata": {},
   "outputs": [
    {
     "name": "stdout",
     "output_type": "stream",
     "text": [
      "6\n"
     ]
    }
   ],
   "source": [
    "ipt_str = list(input().split())\n",
    "\n",
    "print(len(ipt_str))"
   ]
  },
  {
   "attachments": {},
   "cell_type": "markdown",
   "metadata": {},
   "source": [
    "### 2577. 숫자의 개수\n",
    "<b> Bronze 2\n",
    "\n",
    "[문제 출처](https://www.acmicpc.net/problem/2577)"
   ]
  },
  {
   "cell_type": "code",
   "execution_count": 6,
   "metadata": {},
   "outputs": [
    {
     "name": "stdout",
     "output_type": "stream",
     "text": [
      "3\n",
      "1\n",
      "0\n",
      "2\n",
      "0\n",
      "0\n",
      "0\n",
      "2\n",
      "0\n",
      "0\n"
     ]
    }
   ],
   "source": [
    "a = int(input())\n",
    "b = int(input())\n",
    "c = int(input())\n",
    "\n",
    "res = str(a * b * c)\n",
    "\n",
    "for i in range(10):\n",
    "    print(res.count(str(i)))"
   ]
  },
  {
   "attachments": {},
   "cell_type": "markdown",
   "metadata": {},
   "source": [
    "### 2675. 문자열 반복\n",
    "<b> Bronze 2\n",
    "\n",
    "[문제 출처](https://www.acmicpc.net/problem/2675)"
   ]
  },
  {
   "cell_type": "code",
   "execution_count": 10,
   "metadata": {},
   "outputs": [
    {
     "name": "stdout",
     "output_type": "stream",
     "text": [
      "AAABBBCCC\n",
      "/////HHHHHTTTTTPPPPP\n"
     ]
    }
   ],
   "source": [
    "tc = int(input())\n",
    "\n",
    "for t in range(tc):\n",
    "    n, s = input().split()\n",
    "    for i in s:\n",
    "        print(i * int(n), end=\"\")\n",
    "    print()"
   ]
  },
  {
   "attachments": {},
   "cell_type": "markdown",
   "metadata": {},
   "source": [
    "### 2908. 상수\n",
    "<b>Bronze 2\n",
    "\n",
    "[문제 출처](https://www.acmicpc.net/problem/2908)"
   ]
  },
  {
   "cell_type": "code",
   "execution_count": 1,
   "metadata": {},
   "outputs": [
    {
     "name": "stdout",
     "output_type": "stream",
     "text": [
      "437\n"
     ]
    }
   ],
   "source": [
    "a, b = input().split()\n",
    "\n",
    "a = int(a[::-1])\n",
    "b = int(b[::-1])\n",
    "\n",
    "if a > b:\n",
    "    print(a)\n",
    "else:\n",
    "    print(b)"
   ]
  },
  {
   "attachments": {},
   "cell_type": "markdown",
   "metadata": {},
   "source": [
    "### 2920. 음계\n",
    "\n",
    "<b> Bronze 2\n",
    "\n",
    "[문제 출처](https://www.acmicpc.net/problem/2920)"
   ]
  },
  {
   "cell_type": "code",
   "execution_count": 10,
   "metadata": {},
   "outputs": [
    {
     "name": "stdout",
     "output_type": "stream",
     "text": [
      "mixed\n"
     ]
    }
   ],
   "source": [
    "sound = list(map(int, input().split()))\n",
    "s_sound = sound.copy()\n",
    "r_sound = sound.copy()\n",
    "\n",
    "s_sound.sort()\n",
    "r_sound.sort(reverse=True)\n",
    "\n",
    "if sound == s_sound:\n",
    "    print(\"ascending\")\n",
    "elif sound == r_sound:\n",
    "    print(\"descending\")\n",
    "else:\n",
    "    print(\"mixed\")"
   ]
  },
  {
   "attachments": {},
   "cell_type": "markdown",
   "metadata": {},
   "source": [
    "### 3052. 나머지\n",
    "\n",
    "<b> Bronze 2\n",
    "\n",
    "[문제 출처](https://www.acmicpc.net/problem/3052)"
   ]
  },
  {
   "cell_type": "code",
   "execution_count": 13,
   "metadata": {},
   "outputs": [
    {
     "name": "stdout",
     "output_type": "stream",
     "text": [
      "1\n"
     ]
    }
   ],
   "source": [
    "re = []\n",
    "\n",
    "for i in range(10):\n",
    "    n = int(input())\n",
    "    re.append(n % 42)\n",
    "\n",
    "print(len(set(re)))"
   ]
  },
  {
   "attachments": {},
   "cell_type": "markdown",
   "metadata": {},
   "source": [
    "### 8958. OX퀴즈\n",
    "\n",
    "<b>Bronze 2\n",
    "\n",
    "[문제 출처](https://www.acmicpc.net/problem/8958)"
   ]
  },
  {
   "cell_type": "code",
   "execution_count": 17,
   "metadata": {},
   "outputs": [
    {
     "name": "stdout",
     "output_type": "stream",
     "text": [
      "55\n"
     ]
    }
   ],
   "source": [
    "tc = int(input())\n",
    "\n",
    "for t in range(tc):\n",
    "    ans = input()\n",
    "    score = 0\n",
    "    count = 0\n",
    "    \n",
    "    for i in ans:\n",
    "        if i == 'O':\n",
    "            count += 1\n",
    "            score += count\n",
    "        else:\n",
    "            count = 0\n",
    "    print(score)"
   ]
  },
  {
   "cell_type": "code",
   "execution_count": null,
   "metadata": {},
   "outputs": [],
   "source": []
  }
 ],
 "metadata": {
  "kernelspec": {
   "display_name": "python-algorithm",
   "language": "python",
   "name": "python3"
  },
  "language_info": {
   "codemirror_mode": {
    "name": "ipython",
    "version": 3
   },
   "file_extension": ".py",
   "mimetype": "text/x-python",
   "name": "python",
   "nbconvert_exporter": "python",
   "pygments_lexer": "ipython3",
   "version": "3.10.9"
  },
  "orig_nbformat": 4,
  "vscode": {
   "interpreter": {
    "hash": "79ea9fce8105574269133ecc165885ac9f8c716532e13b357614b6adc01d1ee7"
   }
  }
 },
 "nbformat": 4,
 "nbformat_minor": 2
}
