{
 "cells": [
  {
   "attachments": {},
   "cell_type": "markdown",
   "metadata": {},
   "source": [
    "### 11720. 숫자의 합\n",
    "<b>Bronze 4\n",
    "\n",
    "[문제 출처](https://www.acmicpc.net/problem/11720)"
   ]
  },
  {
   "cell_type": "code",
   "execution_count": 4,
   "metadata": {},
   "outputs": [
    {
     "name": "stdout",
     "output_type": "stream",
     "text": [
      "15\n"
     ]
    }
   ],
   "source": [
    "n = int(input())\n",
    "num = input()\n",
    "res = 0\n",
    "\n",
    "for i in range(n):\n",
    "    res += int(num[i])\n",
    "print(res)"
   ]
  },
  {
   "attachments": {},
   "cell_type": "markdown",
   "metadata": {},
   "source": [
    "### 2562. 최댓값\n",
    "<b>Bronze 3\n",
    "\n",
    "[문제 출처](https://www.acmicpc.net/problem/2562)"
   ]
  },
  {
   "cell_type": "code",
   "execution_count": null,
   "metadata": {},
   "outputs": [],
   "source": [
    "number = []\n",
    "for i in range(9):\n",
    "    number.append(int(input()))\n",
    "\n",
    "print(max(number))\n",
    "print(number.index(max(number)) + 1)"
   ]
  },
  {
   "attachments": {},
   "cell_type": "markdown",
   "metadata": {},
   "source": [
    "### 10818. 최소, 최대\n",
    "<b> Bronze 3\n",
    "\n",
    "[문제 출처](https://www.acmicpc.net/problem/10818)"
   ]
  },
  {
   "cell_type": "code",
   "execution_count": null,
   "metadata": {},
   "outputs": [],
   "source": [
    "n = int(input())\n",
    "\n",
    "number = list(map(int, input().split()))\n",
    "\n",
    "print(f\"{min(number)} {max(number)}\")"
   ]
  },
  {
   "attachments": {},
   "cell_type": "markdown",
   "metadata": {},
   "source": [
    "### 1152. 단어의 개수\n",
    "<b> Bronze 2\n",
    "\n",
    "[문제 출처](https://www.acmicpc.net/problem/1152)"
   ]
  },
  {
   "cell_type": "code",
   "execution_count": 5,
   "metadata": {},
   "outputs": [
    {
     "name": "stdout",
     "output_type": "stream",
     "text": [
      "6\n"
     ]
    }
   ],
   "source": [
    "ipt_str = list(input().split())\n",
    "\n",
    "print(len(ipt_str))"
   ]
  },
  {
   "attachments": {},
   "cell_type": "markdown",
   "metadata": {},
   "source": [
    "### 2577. 숫자의 개수\n",
    "<b> Bronze 2\n",
    "\n",
    "[문제 출처](https://www.acmicpc.net/problem/2577)"
   ]
  },
  {
   "cell_type": "code",
   "execution_count": 6,
   "metadata": {},
   "outputs": [
    {
     "name": "stdout",
     "output_type": "stream",
     "text": [
      "3\n",
      "1\n",
      "0\n",
      "2\n",
      "0\n",
      "0\n",
      "0\n",
      "2\n",
      "0\n",
      "0\n"
     ]
    }
   ],
   "source": [
    "a = int(input())\n",
    "b = int(input())\n",
    "c = int(input())\n",
    "\n",
    "res = str(a * b * c)\n",
    "\n",
    "for i in range(10):\n",
    "    print(res.count(str(i)))"
   ]
  },
  {
   "attachments": {},
   "cell_type": "markdown",
   "metadata": {},
   "source": [
    "### 2675. 문자열 반복\n",
    "<b> Bronze 2\n",
    "\n",
    "[문제 출처](https://www.acmicpc.net/problem/2675)"
   ]
  },
  {
   "cell_type": "code",
   "execution_count": null,
   "metadata": {},
   "outputs": [],
   "source": []
  }
 ],
 "metadata": {
  "kernelspec": {
   "display_name": "python-algorithm",
   "language": "python",
   "name": "python3"
  },
  "language_info": {
   "codemirror_mode": {
    "name": "ipython",
    "version": 3
   },
   "file_extension": ".py",
   "mimetype": "text/x-python",
   "name": "python",
   "nbconvert_exporter": "python",
   "pygments_lexer": "ipython3",
   "version": "3.10.9"
  },
  "orig_nbformat": 4,
  "vscode": {
   "interpreter": {
    "hash": "79ea9fce8105574269133ecc165885ac9f8c716532e13b357614b6adc01d1ee7"
   }
  }
 },
 "nbformat": 4,
 "nbformat_minor": 2
}
