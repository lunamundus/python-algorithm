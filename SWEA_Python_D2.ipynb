{
 "cells": [
  {
   "attachments": {},
   "cell_type": "markdown",
   "metadata": {},
   "source": [
    "### 1204. [S/W 문제해결 기본] 1일차 - 최빈수 구하기\n",
    "[문제 출처](https://swexpertacademy.com/main/code/problem/problemDetail.do?problemLevel=2&contestProbId=AV13zo1KAAACFAYh&categoryId=AV13zo1KAAACFAYh&categoryType=CODE&problemTitle=&orderBy=FIRST_REG_DATETIME&selectCodeLang=PYTHON&select-1=2&pageSize=10&pageIndex=3)"
   ]
  },
  {
   "cell_type": "code",
   "execution_count": 1,
   "metadata": {},
   "outputs": [
    {
     "name": "stdout",
     "output_type": "stream",
     "text": [
      "#1 71\n"
     ]
    }
   ],
   "source": [
    "test = int(input())\n",
    "\n",
    "for i in range(0, test):\n",
    "    test_num = int(input())\n",
    "    score = list(map(int, input().split()))\n",
    "    score_set = set(score)\n",
    "    mode_s = [0, 0]\n",
    "    for j in score_set:\n",
    "        tmp = score.count(j)\n",
    "        if mode_s[0] < tmp:\n",
    "            mode_s = [tmp, j]\n",
    "    print(f\"#{i+1} {mode_s[1]}\")"
   ]
  },
  {
   "attachments": {},
   "cell_type": "markdown",
   "metadata": {},
   "source": [
    "### 1284. 수도 요금 경쟁\n",
    "[문제 출제](https://swexpertacademy.com/main/code/problem/problemDetail.do?problemLevel=2&contestProbId=AV189xUaI8UCFAZN&categoryId=AV189xUaI8UCFAZN&categoryType=CODE&problemTitle=&orderBy=FIRST_REG_DATETIME&selectCodeLang=PYTHON&select-1=2&pageSize=10&pageIndex=3)"
   ]
  },
  {
   "cell_type": "code",
   "execution_count": 6,
   "metadata": {},
   "outputs": [
    {
     "name": "stdout",
     "output_type": "stream",
     "text": [
      "#1 1800\n"
     ]
    }
   ],
   "source": [
    "test = int(input())\n",
    "\n",
    "for i in range(0, test):\n",
    "    p, q, r, s, w = map(int, input().split())\n",
    "    a = p * w\n",
    "    if r >= w:\n",
    "        b = q\n",
    "    else:\n",
    "        b = q + s * (w - r)\n",
    "    \n",
    "    if a < b:\n",
    "        print(f\"#{i+1} {a}\")\n",
    "    else:\n",
    "        print(f\"#{i+1} {b}\")\n"
   ]
  },
  {
   "attachments": {},
   "cell_type": "markdown",
   "metadata": {},
   "source": [
    "### 1288. 새로운 불면증 치료법\n",
    "[문제 출처](https://swexpertacademy.com/main/code/problem/problemDetail.do?problemLevel=2&contestProbId=AV18_yw6I9MCFAZN&categoryId=AV18_yw6I9MCFAZN&categoryType=CODE&problemTitle=&orderBy=FIRST_REG_DATETIME&selectCodeLang=PYTHON&select-1=2&pageSize=10&pageIndex=3)"
   ]
  },
  {
   "cell_type": "code",
   "execution_count": 40,
   "metadata": {},
   "outputs": [
    {
     "name": "stdout",
     "output_type": "stream",
     "text": [
      "#1 10\n"
     ]
    }
   ],
   "source": [
    "test_num = int(input())\n",
    "\n",
    "for i in range(0, test_num):\n",
    "    num_set = []\n",
    "    ipt_n = input()\n",
    "    temp_num = int(ipt_n)\n",
    "    count = 1\n",
    "    while num_set != ['0', '1', '2', '3', '4', '5', '6', '7', '8', '9']:\n",
    "        for elem in ipt_n:\n",
    "            if elem in num_set:\n",
    "                pass\n",
    "            else:\n",
    "                num_set.append(elem)\n",
    "                num_set.sort()\n",
    "        count = count + 1\n",
    "        ipt_n = str(temp_num * count)\n",
    "    print(f\"#{i+1} {temp_num * (count - 1)}\")"
   ]
  },
  {
   "cell_type": "code",
   "execution_count": null,
   "metadata": {},
   "outputs": [],
   "source": []
  }
 ],
 "metadata": {
  "kernelspec": {
   "display_name": "python_basic",
   "language": "python",
   "name": "python3"
  },
  "language_info": {
   "codemirror_mode": {
    "name": "ipython",
    "version": 3
   },
   "file_extension": ".py",
   "mimetype": "text/x-python",
   "name": "python",
   "nbconvert_exporter": "python",
   "pygments_lexer": "ipython3",
   "version": "3.10.9"
  },
  "orig_nbformat": 4,
  "vscode": {
   "interpreter": {
    "hash": "c8fe956c2d23baf06d1783cd9496e59066fe95a9685e7febf2b8032a6866c0e9"
   }
  }
 },
 "nbformat": 4,
 "nbformat_minor": 2
}
