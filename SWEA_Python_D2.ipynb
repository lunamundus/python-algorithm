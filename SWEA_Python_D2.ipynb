{
 "cells": [
  {
   "attachments": {},
   "cell_type": "markdown",
   "metadata": {},
   "source": [
    "### 1204. [S/W 문제해결 기본] 1일차 - 최빈수 구하기\n",
    "[문제 출처](https://swexpertacademy.com/main/code/problem/problemDetail.do?problemLevel=2&contestProbId=AV13zo1KAAACFAYh&categoryId=AV13zo1KAAACFAYh&categoryType=CODE&problemTitle=&orderBy=FIRST_REG_DATETIME&selectCodeLang=PYTHON&select-1=2&pageSize=10&pageIndex=3)"
   ]
  },
  {
   "cell_type": "code",
   "execution_count": 38,
   "metadata": {},
   "outputs": [
    {
     "ename": "ValueError",
     "evalue": "invalid literal for int() with base 10: ''",
     "output_type": "error",
     "traceback": [
      "\u001b[1;31m---------------------------------------------------------------------------\u001b[0m",
      "\u001b[1;31mValueError\u001b[0m                                Traceback (most recent call last)",
      "Cell \u001b[1;32mIn[38], line 1\u001b[0m\n\u001b[1;32m----> 1\u001b[0m test \u001b[39m=\u001b[39m \u001b[39mint\u001b[39;49m(\u001b[39minput\u001b[39;49m())\n\u001b[0;32m      3\u001b[0m \u001b[39mfor\u001b[39;00m i \u001b[39min\u001b[39;00m \u001b[39mrange\u001b[39m(\u001b[39m0\u001b[39m, test):\n\u001b[0;32m      4\u001b[0m     test_num \u001b[39m=\u001b[39m \u001b[39mint\u001b[39m(\u001b[39minput\u001b[39m())\n",
      "\u001b[1;31mValueError\u001b[0m: invalid literal for int() with base 10: ''"
     ]
    }
   ],
   "source": [
    "test = int(input())\n",
    "\n",
    "for i in range(0, test):\n",
    "    test_num = int(input())\n",
    "    score = list(map(int, input().split()))\n",
    "    score_set = set(score)\n",
    "    mode_s = [0, 0]\n",
    "    for j in score_set:\n",
    "        tmp = score.count(j)\n",
    "        if mode_s[0] < tmp:\n",
    "            mode_s = [tmp, j]\n",
    "    print(f\"#{i+1} {mode_s[1]}\")"
   ]
  },
  {
   "attachments": {},
   "cell_type": "markdown",
   "metadata": {},
   "source": [
    "### 1284. 수도 요금 경쟁\n",
    "[문제 출제](https://swexpertacademy.com/main/code/problem/problemDetail.do?problemLevel=2&contestProbId=AV189xUaI8UCFAZN&categoryId=AV189xUaI8UCFAZN&categoryType=CODE&problemTitle=&orderBy=FIRST_REG_DATETIME&selectCodeLang=PYTHON&select-1=2&pageSize=10&pageIndex=3)"
   ]
  },
  {
   "cell_type": "code",
   "execution_count": null,
   "metadata": {},
   "outputs": [
    {
     "name": "stdout",
     "output_type": "stream",
     "text": [
      "#1 1800\n"
     ]
    }
   ],
   "source": [
    "test = int(input())\n",
    "\n",
    "for i in range(0, test):\n",
    "    p, q, r, s, w = map(int, input().split())\n",
    "    a = p * w\n",
    "    if r >= w:\n",
    "        b = q\n",
    "    else:\n",
    "        b = q + s * (w - r)\n",
    "    \n",
    "    if a < b:\n",
    "        print(f\"#{i+1} {a}\")\n",
    "    else:\n",
    "        print(f\"#{i+1} {b}\")\n"
   ]
  },
  {
   "attachments": {},
   "cell_type": "markdown",
   "metadata": {},
   "source": [
    "### 1288. 새로운 불면증 치료법\n",
    "[문제 출처](https://swexpertacademy.com/main/code/problem/problemDetail.do?problemLevel=2&contestProbId=AV18_yw6I9MCFAZN&categoryId=AV18_yw6I9MCFAZN&categoryType=CODE&problemTitle=&orderBy=FIRST_REG_DATETIME&selectCodeLang=PYTHON&select-1=2&pageSize=10&pageIndex=3)"
   ]
  },
  {
   "cell_type": "code",
   "execution_count": null,
   "metadata": {},
   "outputs": [],
   "source": [
    "test_num = int(input())\n",
    " \n",
    "for i in range(0, test_num):\n",
    "    num_set = []\n",
    "    ipt_n = input()\n",
    "    temp_num = int(ipt_n)\n",
    "    count = 1\n",
    "    while num_set != ['0', '1', '2', '3', '4', '5', '6', '7', '8', '9']:\n",
    "        for elem in ipt_n:\n",
    "            if elem in num_set:\n",
    "                pass\n",
    "            else:\n",
    "                num_set.append(elem)\n",
    "                num_set.sort()\n",
    "        count = count + 1\n",
    "        ipt_n = str(temp_num * count)\n",
    "    print(f\"#{i+1} {temp_num * (count - 1)}\")"
   ]
  },
  {
   "attachments": {},
   "cell_type": "markdown",
   "metadata": {},
   "source": [
    "### 1928. Base64 Decoder\n",
    "\n",
    "[문제 출처](https://swexpertacademy.com/main/code/problem/problemDetail.do?problemLevel=2&contestProbId=AV5PR4DKAG0DFAUq&categoryId=AV5PR4DKAG0DFAUq&categoryType=CODE&problemTitle=&orderBy=FIRST_REG_DATETIME&selectCodeLang=PYTHON&select-1=2&pageSize=10&pageIndex=3)"
   ]
  },
  {
   "cell_type": "code",
   "execution_count": null,
   "metadata": {},
   "outputs": [],
   "source": [
    "base64_encoding = {'A': 0, 'B': 1, 'C': 2, 'D': 3, 'E': 4, 'F': 5, 'G': 6, 'H': 7, 'I': 8, 'J': 9, 'K': 10, 'L': 11,\n",
    " 'M': 12, 'N': 13, 'O': 14, 'P': 15, 'Q': 16, 'R': 17, 'S': 18, 'T': 19, 'U': 20, 'V': 21, 'W': 22, 'X': 23, 'Y': 24,\n",
    " 'Z': 25, 'a': 26, 'b': 27, 'c': 28, 'd': 29, 'e': 30, 'f': 31, 'g': 32, 'h': 33, 'i': 34, 'j': 35, 'k': 36, 'l': 37,\n",
    " 'm': 38, 'n': 39, 'o': 40, 'p': 41, 'q': 42, 'r': 43, 's': 44, 't': 45, 'u': 46, 'v': 47, 'w': 48, 'x': 49, 'y': 50,\n",
    " 'z': 51, '0': 52, '1': 53, '2': 54, '3': 55, '4': 56, '5': 57, '6': 58, '7': 59, '8': 60, '9': 61, '+': 62, '/': 63}\n",
    " \n",
    "test = int(input())\n",
    " \n",
    "for i in range(0, test):\n",
    "    base64_str = input()\n",
    "    bin_num = \"\"\n",
    " \n",
    "    for item in base64_str:\n",
    "        tmp_str = str(bin(base64_encoding[item])).zfill(7)\n",
    "        idx_b = tmp_str.index('b')\n",
    "        temp = tmp_str[:idx_b] + tmp_str[idx_b+1:]\n",
    "        if len(temp) == 7:\n",
    "            temp = temp[1:]\n",
    "        bin_num = bin_num + temp\n",
    " \n",
    "    new_str = \"\"\n",
    "    str_idx = 0\n",
    "    while str_idx < len(bin_num):\n",
    "        new_str = new_str + chr(int(bin_num[str_idx:str_idx+8], 2))\n",
    "        str_idx = str_idx + 8\n",
    " \n",
    "    print(f\"#{i+1} {new_str}\")"
   ]
  },
  {
   "cell_type": "code",
   "execution_count": null,
   "metadata": {},
   "outputs": [
    {
     "name": "stdout",
     "output_type": "stream",
     "text": [
      "#1 Life itself is a quotation.\n"
     ]
    }
   ],
   "source": [
    "from string import ascii_lowercase, ascii_uppercase\n",
    "\n",
    "base64_encoder = {}\n",
    "\n",
    "for alpt, idx in enumerate(list(ascii_uppercase) + list(ascii_lowercase) + [str(i) for i in range(0, 10)] + ['+', '/']):\n",
    "    base64_encoder[idx] = alpt\n",
    "\n",
    "test = int(input())\n",
    "\n",
    "for i in range(0, test):\n",
    "    ipt_str = input()\n",
    "    bin_num = \"\"\n",
    "\n",
    "    for letter in ipt_str:\n",
    "        tmp_str = str(bin(base64_encoder[letter]).zfill(7))\n",
    "        idx_b = tmp_str.index('b')\n",
    "        tmp_str = tmp_str[:idx_b] + tmp_str[idx_b+1:]\n",
    "        if len(tmp_str) == 7:\n",
    "            tmp_str = tmp_str[1:]\n",
    "        bin_num = bin_num + tmp_str\n",
    "    \n",
    "    bin_idx = 0\n",
    "    encoding_str = \"\"\n",
    "    while bin_idx < len(bin_num):\n",
    "        encoding_str = encoding_str + chr(int(bin_num[bin_idx:bin_idx+8], 2))\n",
    "        bin_idx = bin_idx + 8\n",
    "    \n",
    "    print(f\"#{i+1} {encoding_str}\")"
   ]
  },
  {
   "attachments": {},
   "cell_type": "markdown",
   "metadata": {},
   "source": [
    "### 1940. 가랏! RC카!\n",
    "\n",
    "[문제 출처](https://swexpertacademy.com/main/code/problem/problemDetail.do?problemLevel=2&contestProbId=AV5PjMgaALgDFAUq&categoryId=AV5PjMgaALgDFAUq&categoryType=CODE&problemTitle=&orderBy=FIRST_REG_DATETIME&selectCodeLang=PYTHON&select-1=2&pageSize=10&pageIndex=3)\n",
    "\n",
    "문제가 조금 이상... 물리에서 말하는 가속도의 개념이 아닌 듯..."
   ]
  },
  {
   "cell_type": "code",
   "execution_count": null,
   "metadata": {},
   "outputs": [
    {
     "name": "stdout",
     "output_type": "stream",
     "text": [
      "7\n"
     ]
    }
   ],
   "source": [
    "test = int(input())\n",
    "\n",
    "for test_num in range(0, test):\n",
    "    cur_velo, rc_dist = 0, 0\n",
    "    time_set = int(input())\n",
    "\n",
    "    for time_sec in range(0, time_set):\n",
    "        opt_set = list(map(int, input().split()))\n",
    "        if opt_set[0] == 0:\n",
    "            pass\n",
    "        elif opt_set[0] == 1:\n",
    "            cur_velo = cur_velo + opt_set[1]\n",
    "        else:\n",
    "            if cur_velo - opt_set[1] < 0:\n",
    "                cur_velo = 0\n",
    "            else:\n",
    "                cur_velo = cur_velo - opt_set[1]\n",
    "        rc_dist = rc_dist + cur_velo\n",
    "\n",
    "    print(f\"#{test_num + 1} {rc_dist}\")"
   ]
  },
  {
   "cell_type": "code",
   "execution_count": null,
   "metadata": {},
   "outputs": [],
   "source": [
    "test = int(input())\n",
    "\n",
    "for test_num in range(0, test):\n",
    "    cur_velo, rc_dist = 0, 0\n",
    "    time_set = int(input())\n",
    "\n",
    "    for time_sec in range(0, time_set):\n",
    "        opt_set = list(map(int, input().split()))\n",
    "        if opt_set[0] == 0:\n",
    "            pass\n",
    "        elif opt_set[0] == 1:\n",
    "            cur_velo += opt_set[1]\n",
    "        else:\n",
    "            if cur_velo - opt_set[1] < 0:\n",
    "                cur_velo = 0\n",
    "            else:\n",
    "                cur_velo -= opt_set[1]\n",
    "        rc_dist += cur_velo\n",
    "\n",
    "    print(f\"#{test_num + 1} {rc_dist}\")"
   ]
  },
  {
   "attachments": {},
   "cell_type": "markdown",
   "metadata": {},
   "source": [
    "### 1945. 간단한 소인수분해\n",
    "\n",
    "[문제 출처](https://swexpertacademy.com/main/code/problem/problemDetail.do?problemLevel=2&contestProbId=AV5Pl0Q6ANQDFAUq&categoryId=AV5Pl0Q6ANQDFAUq&categoryType=CODE&problemTitle=&orderBy=FIRST_REG_DATETIME&selectCodeLang=PYTHON&select-1=2&pageSize=10&pageIndex=2)"
   ]
  },
  {
   "cell_type": "code",
   "execution_count": 34,
   "metadata": {},
   "outputs": [
    {
     "name": "stdout",
     "output_type": "stream",
     "text": [
      "#1 3 2 2 3 1\n"
     ]
    }
   ],
   "source": [
    "factor_num = [2, 3, 5, 7, 11]\n",
    "div_num = 2\n",
    "\n",
    "test = int(input())\n",
    "\n",
    "for i in range(0, test):\n",
    "    num = int(input())\n",
    "    div_factor = []\n",
    "    \n",
    "    for div_num in factor_num:\n",
    "        bool_set = True\n",
    "        while bool_set:\n",
    "            if num % div_num == 0:\n",
    "                num = num // div_num\n",
    "                div_factor.append(div_num)\n",
    "            else:\n",
    "                bool_set = False\n",
    "\n",
    "    print(f\"#{i+1} {div_factor.count(2)} {div_factor.count(3)} {div_factor.count(5)} {div_factor.count(7)} {div_factor.count(11)}\")"
   ]
  },
  {
   "cell_type": "code",
   "execution_count": 35,
   "metadata": {},
   "outputs": [
    {
     "name": "stdout",
     "output_type": "stream",
     "text": [
      "#1 3 2 2 3 1 \n"
     ]
    }
   ],
   "source": [
    "test = int(input())\n",
    "\n",
    "for i in range(0, test):\n",
    "    factor_num = 2\n",
    "    factor_list = []\n",
    "    number = int(input())\n",
    "\n",
    "    while True:\n",
    "        if number % factor_num == 0:\n",
    "            factor_list.append(factor_num)\n",
    "            number = number // factor_num\n",
    "            if number == 1:\n",
    "                break\n",
    "        else:\n",
    "            factor_num += 1\n",
    "\n",
    "    print(f\"#{i+1}\", end=\" \")\n",
    "    for item in set(factor_list):\n",
    "        print(f\"{factor_list.count(item)}\", end=\" \")\n",
    "    \n",
    "    print(end=\"\\n\")\n"
   ]
  },
  {
   "attachments": {},
   "cell_type": "markdown",
   "metadata": {},
   "source": [
    "### 1946. 간단한 압축 풀기\n",
    "\n",
    "[문제 출처](https://swexpertacademy.com/main/code/problem/problemDetail.do?problemLevel=2&contestProbId=AV5PmkDKAOMDFAUq&categoryId=AV5PmkDKAOMDFAUq&categoryType=CODE&problemTitle=&orderBy=FIRST_REG_DATETIME&selectCodeLang=PYTHON&select-1=2&pageSize=10&pageIndex=2)"
   ]
  },
  {
   "cell_type": "code",
   "execution_count": null,
   "metadata": {},
   "outputs": [
    {
     "name": "stdout",
     "output_type": "stream",
     "text": [
      "AAAAAAAAAA\n",
      "BBBBBBBCCC\n",
      "CC\n"
     ]
    }
   ],
   "source": [
    "tests = int(input())\n",
    "\n",
    "for test in range(0, tests):\n",
    "    n = int(input())\n",
    "\n",
    "    temp_str = \"\"\n",
    "    for i in range(0, n):\n",
    "        new_str, num = input().split()\n",
    "        temp_str = temp_str + (new_str * int(num))\n",
    "    \n",
    "    print(f\"#{test+1}\")\n",
    "    for i in range(0, len(temp_str) // 10 + 1):\n",
    "        print(temp_str[i * 10 : i * 10 + 10])"
   ]
  },
  {
   "attachments": {},
   "cell_type": "markdown",
   "metadata": {},
   "source": [
    "### 1948. 날짜 계산기\n",
    "\n",
    "[문제 출처](https://swexpertacademy.com/main/code/problem/problemDetail.do?problemLevel=2&contestProbId=AV5PnnU6AOsDFAUq&categoryId=AV5PnnU6AOsDFAUq&categoryType=CODE&problemTitle=&orderBy=FIRST_REG_DATETIME&selectCodeLang=PYTHON&select-1=2&pageSize=10&pageIndex=2)"
   ]
  },
  {
   "cell_type": "code",
   "execution_count": null,
   "metadata": {},
   "outputs": [
    {
     "name": "stdout",
     "output_type": "stream",
     "text": [
      "#1 31\n",
      "#2 103\n",
      "#3 161\n"
     ]
    }
   ],
   "source": [
    "from datetime import date\n",
    "\n",
    "test = int(input())\n",
    "\n",
    "for i in range(0, test):\n",
    "    year = 2023\n",
    "    month1, day1, month2, day2 = map(int, input().split())\n",
    "\n",
    "    d1 = date(year, month1, day1)\n",
    "    d2 = date(year, month2, day2)\n",
    "\n",
    "    bt_date = str(d2 - d1)\n",
    "\n",
    "    print(f\"#{i+1} {int(bt_date[0:bt_date.index(' ')]) + 1}\")"
   ]
  },
  {
   "attachments": {},
   "cell_type": "markdown",
   "metadata": {},
   "source": [
    "### 1954. 달팽이 숫자\n",
    "\n",
    "[문제 출처](https://swexpertacademy.com/main/code/problem/problemDetail.do?problemLevel=2&contestProbId=AV5PobmqAPoDFAUq&categoryId=AV5PobmqAPoDFAUq&categoryType=CODE&problemTitle=&orderBy=FIRST_REG_DATETIME&selectCodeLang=PYTHON&select-1=2&pageSize=10&pageIndex=2)"
   ]
  },
  {
   "cell_type": "code",
   "execution_count": 59,
   "metadata": {},
   "outputs": [
    {
     "name": "stdout",
     "output_type": "stream",
     "text": [
      "#1\n",
      "1 2 3 4 5 6 7 \n",
      "24 25 26 27 28 29 8 \n",
      "23 40 41 42 43 30 9 \n",
      "22 39 48 49 44 31 10 \n",
      "21 38 47 46 45 32 11 \n",
      "20 37 36 35 34 33 12 \n",
      "19 18 17 16 15 14 13 \n"
     ]
    }
   ],
   "source": [
    "tests = int(input())\n",
    "\n",
    "for test in range(tests):\n",
    "    n = int(input())\n",
    "\n",
    "    snail_arr = [[0 for i in range(0, n)] for i in range(0, n)] # n x n 행렬\n",
    "    snail_num = 1\n",
    "\n",
    "    for i in range(n):\n",
    "        for j in range(i, n-i): # 우측으로 이동\n",
    "            snail_arr[i][j] = snail_num\n",
    "            snail_num += 1\n",
    "        \n",
    "        for j in range(1+i, n-i): # 아래로 이동\n",
    "            snail_arr[j][n-1 -i] = snail_num\n",
    "            snail_num += 1\n",
    "        \n",
    "        for j in range(i, n-1-i): # 좌측으로 이동\n",
    "            snail_arr[n-1-i][n-2-j] = snail_num\n",
    "            snail_num += 1\n",
    "        \n",
    "        for j in range(i, n-2-i): # 위로 이동\n",
    "            snail_arr[n-2-j][i] = snail_num\n",
    "            snail_num += 1\n",
    "\n",
    "    print(f\"#{test+1}\")\n",
    "    for i in range(0, n):\n",
    "        for j in range(0, n):\n",
    "            print(snail_arr[i][j], end=\" \")\n",
    "        print()"
   ]
  },
  {
   "cell_type": "code",
   "execution_count": null,
   "metadata": {},
   "outputs": [],
   "source": [
    "[1, 2, 3, 4], \n",
    "[0, 0, 0, 5], \n",
    "[0, 0, 0, 6], \n",
    "[0, 0, 0, 7]"
   ]
  },
  {
   "cell_type": "code",
   "execution_count": null,
   "metadata": {},
   "outputs": [
    {
     "data": {
      "text/plain": [
       "[[0, 0, 0, 0], [0, 0, 0, 0], [0, 0, 0, 0], [0, 0, 0, 0]]"
      ]
     },
     "execution_count": 34,
     "metadata": {},
     "output_type": "execute_result"
    }
   ],
   "source": [
    "n = 4\n",
    "\n",
    "new_arr = [[0 for i in range(0, n)] for i in range(0, n)]\n",
    "\n",
    "new_arr"
   ]
  },
  {
   "attachments": {},
   "cell_type": "markdown",
   "metadata": {},
   "source": [
    "### 1959. 두 개의 숫자열\n",
    "\n",
    "[문제 풀이](https://swexpertacademy.com/main/code/problem/problemDetail.do?problemLevel=2&contestProbId=AV5PpoFaAS4DFAUq&categoryId=AV5PpoFaAS4DFAUq&categoryType=CODE&problemTitle=&orderBy=FIRST_REG_DATETIME&selectCodeLang=PYTHON&select-1=2&pageSize=10&pageIndex=2)"
   ]
  },
  {
   "cell_type": "code",
   "execution_count": 75,
   "metadata": {},
   "outputs": [
    {
     "ename": "ValueError",
     "evalue": "invalid literal for int() with base 10: ''",
     "output_type": "error",
     "traceback": [
      "\u001b[1;31m---------------------------------------------------------------------------\u001b[0m",
      "\u001b[1;31mValueError\u001b[0m                                Traceback (most recent call last)",
      "Cell \u001b[1;32mIn[75], line 1\u001b[0m\n\u001b[1;32m----> 1\u001b[0m tests \u001b[39m=\u001b[39m \u001b[39mint\u001b[39;49m(\u001b[39minput\u001b[39;49m())\n\u001b[0;32m      3\u001b[0m \u001b[39mfor\u001b[39;00m test \u001b[39min\u001b[39;00m \u001b[39mrange\u001b[39m(tests):\n\u001b[0;32m      4\u001b[0m     m, n \u001b[39m=\u001b[39m \u001b[39mmap\u001b[39m(\u001b[39mint\u001b[39m, \u001b[39minput\u001b[39m()\u001b[39m.\u001b[39msplit())\n",
      "\u001b[1;31mValueError\u001b[0m: invalid literal for int() with base 10: ''"
     ]
    }
   ],
   "source": [
    "tests = int(input())\n",
    "\n",
    "for test in range(tests):\n",
    "    n, m = map(int, input().split())\n",
    "    ai = list(map(int, input().split()))\n",
    "    bj = list(map(int, input().split()))\n",
    "\n",
    "    max_sum = 0\n",
    "    if n < m:\n",
    "        for i in range(0, m - n + 1):\n",
    "            res_sum = 0\n",
    "            for j in range(0, n):\n",
    "                res_sum += ai[j] * bj[j + i]\n",
    "            if max_sum < res_sum:\n",
    "                max_sum = res_sum\n",
    "    else:\n",
    "        for i in range(0, n - m + 1):\n",
    "            res_sum = 0\n",
    "            for j in range(0, m):\n",
    "                res_sum += ai[j + i] * bj[j]\n",
    "            if max_sum < res_sum:\n",
    "                max_sum = res_sum\n",
    "\n",
    "    print(f\"#{test+1} {max_sum}\")"
   ]
  },
  {
   "attachments": {},
   "cell_type": "markdown",
   "metadata": {},
   "source": [
    "### 1961. 숫자 배열 회전\n",
    "\n",
    "[문제 풀이](https://swexpertacademy.com/main/code/problem/problemDetail.do?problemLevel=2&contestProbId=AV5Pq-OKAVYDFAUq&categoryId=AV5Pq-OKAVYDFAUq&categoryType=CODE&problemTitle=&orderBy=FIRST_REG_DATETIME&selectCodeLang=PYTHON&select-1=2&pageSize=10&pageIndex=2)"
   ]
  },
  {
   "cell_type": "code",
   "execution_count": 16,
   "metadata": {},
   "outputs": [
    {
     "ename": "ValueError",
     "evalue": "invalid literal for int() with base 10: ''",
     "output_type": "error",
     "traceback": [
      "\u001b[1;31m---------------------------------------------------------------------------\u001b[0m",
      "\u001b[1;31mValueError\u001b[0m                                Traceback (most recent call last)",
      "Cell \u001b[1;32mIn[16], line 1\u001b[0m\n\u001b[1;32m----> 1\u001b[0m test_case \u001b[39m=\u001b[39m \u001b[39mint\u001b[39;49m(\u001b[39minput\u001b[39;49m())\n\u001b[0;32m      3\u001b[0m \u001b[39mfor\u001b[39;00m test \u001b[39min\u001b[39;00m \u001b[39mrange\u001b[39m(test_case):\n\u001b[0;32m      4\u001b[0m     n \u001b[39m=\u001b[39m \u001b[39mint\u001b[39m(\u001b[39minput\u001b[39m())\n",
      "\u001b[1;31mValueError\u001b[0m: invalid literal for int() with base 10: ''"
     ]
    }
   ],
   "source": [
    "test_case = int(input())\n",
    "\n",
    "for test in range(test_case):\n",
    "    n = int(input())\n",
    "\n",
    "    base_arr = [list(map(int, input().split())) for i in range(n)] # n x n array\n",
    "\n",
    "    # rotate 90 degree\n",
    "    rot90 = [[0 for i in range(n)] for j in range(n)]\n",
    "    for i in range(n):\n",
    "        for j in range(n):\n",
    "            rot90[j][n-i-1] = base_arr[i][j]\n",
    "\n",
    "    # rotate 180 degree\n",
    "    rot180 = [[0 for i in range(n)] for j in range(n)]\n",
    "    for i in range(n):\n",
    "        for j in range(n):\n",
    "            rot180[j][n-i-1] = rot90[i][j]\n",
    "\n",
    "    # rotate 270 degree\n",
    "    rot270 = [[0 for i in range(n)] for j in range(n)]\n",
    "    for i in range(n):\n",
    "        for j in range(n):\n",
    "            rot270[j][n-i-1] = rot180[i][j]\n",
    "\n",
    "    # merge rotated array\n",
    "    rot = [rot90, rot180, rot270]\n",
    "\n",
    "    # print\n",
    "    print(f\"#{test+1}\")\n",
    "    for i in range(n):\n",
    "        for j in range(3):\n",
    "            for k in range(n):\n",
    "                print(rot[j][i][k], end=\"\")\n",
    "            print(end=\" \")\n",
    "        print()"
   ]
  },
  {
   "cell_type": "code",
   "execution_count": null,
   "metadata": {},
   "outputs": [],
   "source": [
    "test_case = int(input())\n",
    "\n",
    "for test in range(test_case):\n",
    "    n = int(input())\n",
    "\n",
    "    base_arr = [list(map(int, input().split())) for i in range(n)] # n x n array\n",
    "\n",
    "    # rotate 90 degree\n",
    "    rot90 = [[0 for i in range(n)] for j in range(n)]\n",
    "    rot180 = [[0 for i in range(n)] for j in range(n)]\n",
    "    rot270 = [[0 for i in range(n)] for j in range(n)]\n",
    "\n",
    "    for i in range(n):\n",
    "        for j in range(n):\n",
    "            rot90[j][n-i-1] = base_arr[i][j]\n",
    "            rot180[n-i-1][n-j-1] = base_arr[i][j]\n",
    "            rot270[n-j-1][i] = base_arr[i][j]\n",
    "\n",
    "    # merge rotated array\n",
    "    rot = [rot90, rot180, rot270]\n",
    "\n",
    "    # print\n",
    "    print(f\"#{test+1}\")\n",
    "    for i in range(n):\n",
    "        for j in range(3):\n",
    "            for k in range(n):\n",
    "                print(rot[j][i][k], end=\"\")\n",
    "            print(end=\" \")\n",
    "        print()"
   ]
  },
  {
   "attachments": {},
   "cell_type": "markdown",
   "metadata": {},
   "source": [
    "### 1966. 숫자를 정렬하자\n",
    "\n",
    "[문제 출처](https://swexpertacademy.com/main/code/problem/problemDetail.do?problemLevel=2&contestProbId=AV5PrmyKAWEDFAUq&categoryId=AV5PrmyKAWEDFAUq&categoryType=CODE&problemTitle=&orderBy=FIRST_REG_DATETIME&selectCodeLang=PYTHON&select-1=2&pageSize=10&pageIndex=2)"
   ]
  },
  {
   "cell_type": "code",
   "execution_count": 29,
   "metadata": {},
   "outputs": [
    {
     "name": "stdout",
     "output_type": "stream",
     "text": [
      "#0 0 1 4 7 8 #1 2 5 7 "
     ]
    }
   ],
   "source": [
    "test_case = int(input())\n",
    "\n",
    "for test in range(test_case):\n",
    "    n = int(input())\n",
    "\n",
    "    number_list = list(map(int, input().split()))\n",
    "    number_list.sort()\n",
    "\n",
    "    print(f\"#{test+1}\", end=\" \")\n",
    "\n",
    "    for i in number_list:\n",
    "        print(i, end=\" \")\n",
    "    \n",
    "    print()"
   ]
  },
  {
   "attachments": {},
   "cell_type": "markdown",
   "metadata": {},
   "source": [
    "### 1970. 쉬운 거스름돈\n",
    "\n",
    "[문제 출처](https://swexpertacademy.com/main/code/problem/problemDetail.do?problemLevel=2&contestProbId=AV5PsIl6AXIDFAUq&categoryId=AV5PsIl6AXIDFAUq&categoryType=CODE&problemTitle=&orderBy=FIRST_REG_DATETIME&selectCodeLang=PYTHON&select-1=2&pageSize=10&pageIndex=2)"
   ]
  },
  {
   "cell_type": "code",
   "execution_count": 32,
   "metadata": {},
   "outputs": [
    {
     "name": "stdout",
     "output_type": "stream",
     "text": [
      "#1\n",
      "0 3 0 2 1 3 1 0 #2\n",
      "0 0 0 0 0 1 1 1 "
     ]
    }
   ],
   "source": [
    "money_list = [50000, 10000, 5000, 1000, 500, 100, 50, 10]\n",
    "\n",
    "test_case = int(input())\n",
    "\n",
    "for test in range(test_case):\n",
    "    ipt_change = int(input())\n",
    "    change = []\n",
    "\n",
    "    for money in money_list:\n",
    "        change.append(ipt_change // money)\n",
    "        ipt_change = ipt_change % money\n",
    "\n",
    "    print(f\"#{test+1}\")\n",
    "    for i in change:\n",
    "        print(i, end=\" \")\n",
    "    print()\n"
   ]
  },
  {
   "attachments": {},
   "cell_type": "markdown",
   "metadata": {},
   "source": [
    "### 1974. 스도쿠 검증\n",
    "\n",
    "[문제 출처](https://swexpertacademy.com/main/code/problem/problemDetail.do?problemLevel=2&contestProbId=AV5Psz16AYEDFAUq&categoryId=AV5Psz16AYEDFAUq&categoryType=CODE&problemTitle=&orderBy=FIRST_REG_DATETIME&selectCodeLang=PYTHON&select-1=2&pageSize=10&pageIndex=2)"
   ]
  },
  {
   "cell_type": "code",
   "execution_count": 33,
   "metadata": {},
   "outputs": [
    {
     "name": "stdout",
     "output_type": "stream",
     "text": [
      "[[7, 3, 6, 4, 2, 9, 5, 8, 1], [5, 8, 9, 1, 6, 7, 3, 2, 4], [2, 1, 4, 5, 8, 3, 6, 9, 7], [8, 4, 7, 9, 3, 6, 1, 5, 2], [1, 5, 3, 8, 4, 2, 9, 7, 6], [9, 6, 2, 7, 5, 1, 8, 4, 3], [4, 2, 1, 3, 9, 8, 7, 6, 5], [3, 9, 5, 6, 7, 4, 2, 1, 8], [6, 7, 8, 2, 1, 5, 4, 3, 9]]\n"
     ]
    }
   ],
   "source": [
    "ipt_case = [list(map(int, input().split())) for i in range(9)]\n",
    "\n"
   ]
  },
  {
   "cell_type": "code",
   "execution_count": null,
   "metadata": {},
   "outputs": [],
   "source": []
  }
 ],
 "metadata": {
  "kernelspec": {
   "display_name": "python-algorithm",
   "language": "python",
   "name": "python3"
  },
  "language_info": {
   "codemirror_mode": {
    "name": "ipython",
    "version": 3
   },
   "file_extension": ".py",
   "mimetype": "text/x-python",
   "name": "python",
   "nbconvert_exporter": "python",
   "pygments_lexer": "ipython3",
   "version": "3.10.9"
  },
  "orig_nbformat": 4,
  "vscode": {
   "interpreter": {
    "hash": "79ea9fce8105574269133ecc165885ac9f8c716532e13b357614b6adc01d1ee7"
   }
  }
 },
 "nbformat": 4,
 "nbformat_minor": 2
}
