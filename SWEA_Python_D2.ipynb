{
 "cells": [
  {
   "attachments": {},
   "cell_type": "markdown",
   "metadata": {},
   "source": [
    "### 1204. [S/W 문제해결 기본] 1일차 - 최빈수 구하기\n",
    "[문제 출처](https://swexpertacademy.com/main/code/problem/problemDetail.do?problemLevel=2&contestProbId=AV13zo1KAAACFAYh&categoryId=AV13zo1KAAACFAYh&categoryType=CODE&problemTitle=&orderBy=FIRST_REG_DATETIME&selectCodeLang=PYTHON&select-1=2&pageSize=10&pageIndex=3)"
   ]
  },
  {
   "cell_type": "code",
   "execution_count": 1,
   "metadata": {},
   "outputs": [
    {
     "name": "stdout",
     "output_type": "stream",
     "text": [
      "#1 71\n"
     ]
    }
   ],
   "source": [
    "test = int(input())\n",
    "\n",
    "for i in range(0, test):\n",
    "    test_num = int(input())\n",
    "    score = list(map(int, input().split()))\n",
    "    score_set = set(score)\n",
    "    mode_s = [0, 0]\n",
    "    for j in score_set:\n",
    "        tmp = score.count(j)\n",
    "        if mode_s[0] < tmp:\n",
    "            mode_s = [tmp, j]\n",
    "    print(f\"#{i+1} {mode_s[1]}\")"
   ]
  },
  {
   "attachments": {},
   "cell_type": "markdown",
   "metadata": {},
   "source": [
    "### 1284. 수도 요금 경쟁\n",
    "[문제 출제](https://swexpertacademy.com/main/code/problem/problemDetail.do?problemLevel=2&contestProbId=AV189xUaI8UCFAZN&categoryId=AV189xUaI8UCFAZN&categoryType=CODE&problemTitle=&orderBy=FIRST_REG_DATETIME&selectCodeLang=PYTHON&select-1=2&pageSize=10&pageIndex=3)"
   ]
  },
  {
   "cell_type": "code",
   "execution_count": 6,
   "metadata": {},
   "outputs": [
    {
     "name": "stdout",
     "output_type": "stream",
     "text": [
      "#1 1800\n"
     ]
    }
   ],
   "source": [
    "test = int(input())\n",
    "\n",
    "for i in range(0, test):\n",
    "    p, q, r, s, w = map(int, input().split())\n",
    "    a = p * w\n",
    "    if r >= w:\n",
    "        b = q\n",
    "    else:\n",
    "        b = q + s * (w - r)\n",
    "    \n",
    "    if a < b:\n",
    "        print(f\"#{i+1} {a}\")\n",
    "    else:\n",
    "        print(f\"#{i+1} {b}\")\n"
   ]
  },
  {
   "attachments": {},
   "cell_type": "markdown",
   "metadata": {},
   "source": [
    "### 1288. 새로운 불면증 치료법\n",
    "[문제 출처](https://swexpertacademy.com/main/code/problem/problemDetail.do?problemLevel=2&contestProbId=AV18_yw6I9MCFAZN&categoryId=AV18_yw6I9MCFAZN&categoryType=CODE&problemTitle=&orderBy=FIRST_REG_DATETIME&selectCodeLang=PYTHON&select-1=2&pageSize=10&pageIndex=3)"
   ]
  },
  {
   "cell_type": "code",
   "execution_count": 40,
   "metadata": {},
   "outputs": [
    {
     "name": "stdout",
     "output_type": "stream",
     "text": [
      "#1 10\n"
     ]
    }
   ],
   "source": [
    "test_num = int(input())\n",
    "\n",
    "for i in range(0, test_num):\n",
    "    num_set = []\n",
    "    ipt_n = input()\n",
    "    temp_num = int(ipt_n)\n",
    "    count = 1\n",
    "    while num_set != ['0', '1', '2', '3', '4', '5', '6', '7', '8', '9']:\n",
    "        for elem in ipt_n:\n",
    "            if elem in num_set:\n",
    "                pass\n",
    "            else:\n",
    "                num_set.append(elem)\n",
    "                num_set.sort()\n",
    "        count = count + 1\n",
    "        ipt_n = str(temp_num * count)\n",
    "    print(f\"#{i+1} {temp_num * (count - 1)}\")"
   ]
  },
  {
   "attachments": {},
   "cell_type": "markdown",
   "metadata": {},
   "source": [
    "### 1928. Base64 Decoder\n",
    "\n",
    "[문제 출처](https://swexpertacademy.com/main/code/problem/problemDetail.do?problemLevel=2&contestProbId=AV5PR4DKAG0DFAUq&categoryId=AV5PR4DKAG0DFAUq&categoryType=CODE&problemTitle=&orderBy=FIRST_REG_DATETIME&selectCodeLang=PYTHON&select-1=2&pageSize=10&pageIndex=3)"
   ]
  },
  {
   "cell_type": "code",
   "execution_count": 2,
   "metadata": {},
   "outputs": [
    {
     "name": "stdout",
     "output_type": "stream",
     "text": [
      "b'Life itself is a quotation.'\n",
      "Life itself is a quotation.\n"
     ]
    }
   ],
   "source": [
    "import base64\n",
    "\n",
    "test_num = int(input())\n",
    "\n",
    "for i in range(0, test_num):\n",
    "    base64_str = input()\n",
    "    str_bytes = base64.b64decode(base64_str)\n",
    "    decode_str = str_bytes.decode(\"utf-8\")\n",
    "\n",
    "    print(f\"#{i} {decode_str}\")"
   ]
  },
  {
   "cell_type": "code",
   "execution_count": 58,
   "metadata": {},
   "outputs": [
    {
     "name": "stdout",
     "output_type": "stream",
     "text": [
      "#1 Life itself is a quotation.\n"
     ]
    }
   ],
   "source": [
    "base64_encoding = {'A': 0, 'B': 1, 'C': 2, 'D': 3, 'E': 4, 'F': 5, 'G': 6, 'H': 7, 'I': 8, 'J': 9, 'K': 10, 'L': 11,\n",
    " 'M': 12, 'N': 13, 'O': 14, 'P': 15, 'Q': 16, 'R': 17, 'S': 18, 'T': 19, 'U': 20, 'V': 21, 'W': 22, 'X': 23, 'Y': 24,\n",
    " 'Z': 25, 'a': 26, 'b': 27, 'c': 28, 'd': 29, 'e': 30, 'f': 31, 'g': 32, 'h': 33, 'i': 34, 'j': 35, 'k': 36, 'l': 37,\n",
    " 'm': 38, 'n': 39, 'o': 40, 'p': 41, 'q': 42, 'r': 43, 's': 44, 't': 45, 'u': 46, 'v': 47, 'w': 48, 'x': 49, 'y': 50,\n",
    " 'z': 51, '0': 52, '1': 53, '2': 54, '3': 55, '4': 56, '5': 57, '6': 58, '7': 59, '8': 60, '9': 61, '+': 62, '/': 63}\n",
    "\n",
    "test = int(input())\n",
    "\n",
    "for i in range(0, test):\n",
    "    base64_str = input()\n",
    "    bin_num = \"\"\n",
    "\n",
    "    for item in base64_str:\n",
    "        tmp_str = bin(base64_encoding[item]).zfill(7)\n",
    "        idx_b = tmp_str.index('b')\n",
    "        temp = tmp_str[:idx_b] + tmp_str[idx_b+1:]\n",
    "        if len(temp) == 7:\n",
    "            temp = temp[1:]\n",
    "        bin_num = bin_num + temp\n",
    "\n",
    "    new_str = \"\"\n",
    "    str_idx = 0\n",
    "    while str_idx < len(bin_num):\n",
    "        new_str = new_str + chr(int(bin_num[str_idx:str_idx+8], 2))\n",
    "        str_idx = str_idx + 8\n",
    "\n",
    "    print(f\"#{i+1} {new_str}\")"
   ]
  },
  {
   "cell_type": "code",
   "execution_count": 13,
   "metadata": {},
   "outputs": [
    {
     "data": {
      "text/plain": [
       "{'A': 0,\n",
       " 'B': 1,\n",
       " 'C': 2,\n",
       " 'D': 3,\n",
       " 'E': 4,\n",
       " 'F': 5,\n",
       " 'G': 6,\n",
       " 'H': 7,\n",
       " 'I': 8,\n",
       " 'J': 9,\n",
       " 'K': 10,\n",
       " 'L': 11,\n",
       " 'M': 12,\n",
       " 'N': 13,\n",
       " 'O': 14,\n",
       " 'P': 15,\n",
       " 'Q': 16,\n",
       " 'R': 17,\n",
       " 'S': 18,\n",
       " 'T': 19,\n",
       " 'U': 20,\n",
       " 'V': 21,\n",
       " 'W': 22,\n",
       " 'X': 23,\n",
       " 'Y': 24,\n",
       " 'Z': 25,\n",
       " 'a': 26,\n",
       " 'b': 27,\n",
       " 'c': 28,\n",
       " 'd': 29,\n",
       " 'e': 30,\n",
       " 'f': 31,\n",
       " 'g': 32,\n",
       " 'h': 33,\n",
       " 'i': 34,\n",
       " 'j': 35,\n",
       " 'k': 36,\n",
       " 'l': 37,\n",
       " 'm': 38,\n",
       " 'n': 39,\n",
       " 'o': 40,\n",
       " 'p': 41,\n",
       " 'q': 42,\n",
       " 'r': 43,\n",
       " 's': 44,\n",
       " 't': 45,\n",
       " 'u': 46,\n",
       " 'v': 47,\n",
       " 'w': 48,\n",
       " 'x': 49,\n",
       " 'y': 50,\n",
       " 'z': 51,\n",
       " 0: 52,\n",
       " 1: 53,\n",
       " 2: 54,\n",
       " 3: 55,\n",
       " 4: 56,\n",
       " 5: 57,\n",
       " 6: 58,\n",
       " 7: 59,\n",
       " 8: 60,\n",
       " 9: 61,\n",
       " '+': 62,\n",
       " '/': 63}"
      ]
     },
     "execution_count": 13,
     "metadata": {},
     "output_type": "execute_result"
    }
   ],
   "source": [
    "from string import ascii_lowercase\n",
    "from string import ascii_uppercase\n",
    "\n",
    "alpb_encoding = {}\n",
    "\n",
    "for num, alpb in enumerate(ascii_uppercase, 0):\n",
    "    alpb_encoding[alpb] = num\n",
    "\n",
    "for num, alpb in enumerate(ascii_lowercase, 26):\n",
    "    alpb_encoding[alpb] = num\n",
    "\n",
    "for num, number in zip([52, 53, 54, 55, 56, 57, 58, 59, 60, 61, 62, 63], [0, 1, 2, 3, 4, 5, 6, 7, 8, 9, '+', '/']):\n",
    "    alpb_encoding[number] = num\n",
    "\n",
    "alpb_encoding\n"
   ]
  },
  {
   "attachments": {},
   "cell_type": "markdown",
   "metadata": {},
   "source": [
    "### 다음 문제"
   ]
  },
  {
   "cell_type": "code",
   "execution_count": null,
   "metadata": {},
   "outputs": [],
   "source": []
  }
 ],
 "metadata": {
  "kernelspec": {
   "display_name": "basic",
   "language": "python",
   "name": "python3"
  },
  "language_info": {
   "codemirror_mode": {
    "name": "ipython",
    "version": 3
   },
   "file_extension": ".py",
   "mimetype": "text/x-python",
   "name": "python",
   "nbconvert_exporter": "python",
   "pygments_lexer": "ipython3",
   "version": "3.10.9"
  },
  "orig_nbformat": 4,
  "vscode": {
   "interpreter": {
    "hash": "514b9fec8eeb9f3740e56821ec95ba3e0b4a82e7ba5d7ff1f00d9bcaf7b9615a"
   }
  }
 },
 "nbformat": 4,
 "nbformat_minor": 2
}
