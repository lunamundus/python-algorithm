{
 "cells": [
  {
   "attachments": {},
   "cell_type": "markdown",
   "metadata": {},
   "source": [
    "### 1204. [S/W 문제해결 기본] 1일차 - 최빈수 구하기\n",
    "[문제 출처](https://swexpertacademy.com/main/code/problem/problemDetail.do?problemLevel=2&contestProbId=AV13zo1KAAACFAYh&categoryId=AV13zo1KAAACFAYh&categoryType=CODE&problemTitle=&orderBy=FIRST_REG_DATETIME&selectCodeLang=PYTHON&select-1=2&pageSize=10&pageIndex=3)"
   ]
  },
  {
   "cell_type": "code",
   "execution_count": 1,
   "metadata": {},
   "outputs": [
    {
     "name": "stdout",
     "output_type": "stream",
     "text": [
      "#1 71\n"
     ]
    }
   ],
   "source": [
    "test = int(input())\n",
    "\n",
    "for i in range(0, test):\n",
    "    test_num = int(input())\n",
    "    score = list(map(int, input().split()))\n",
    "    score_set = set(score)\n",
    "    mode_s = [0, 0]\n",
    "    for j in score_set:\n",
    "        tmp = score.count(j)\n",
    "        if mode_s[0] < tmp:\n",
    "            mode_s = [tmp, j]\n",
    "    print(f\"#{i+1} {mode_s[1]}\")"
   ]
  },
  {
   "attachments": {},
   "cell_type": "markdown",
   "metadata": {},
   "source": [
    "### 1284. 수도 요금 경쟁\n",
    "[문제 출제](https://swexpertacademy.com/main/code/problem/problemDetail.do?problemLevel=2&contestProbId=AV189xUaI8UCFAZN&categoryId=AV189xUaI8UCFAZN&categoryType=CODE&problemTitle=&orderBy=FIRST_REG_DATETIME&selectCodeLang=PYTHON&select-1=2&pageSize=10&pageIndex=3)"
   ]
  },
  {
   "cell_type": "code",
   "execution_count": 6,
   "metadata": {},
   "outputs": [
    {
     "name": "stdout",
     "output_type": "stream",
     "text": [
      "#1 1800\n"
     ]
    }
   ],
   "source": [
    "test = int(input())\n",
    "\n",
    "for i in range(0, test):\n",
    "    p, q, r, s, w = map(int, input().split())\n",
    "    a = p * w\n",
    "    if r >= w:\n",
    "        b = q\n",
    "    else:\n",
    "        b = q + s * (w - r)\n",
    "    \n",
    "    if a < b:\n",
    "        print(f\"#{i+1} {a}\")\n",
    "    else:\n",
    "        print(f\"#{i+1} {b}\")\n"
   ]
  },
  {
   "attachments": {},
   "cell_type": "markdown",
   "metadata": {},
   "source": [
    "### 1288. 새로운 불면증 치료법\n",
    "[문제 출처](https://swexpertacademy.com/main/code/problem/problemDetail.do?problemLevel=2&contestProbId=AV18_yw6I9MCFAZN&categoryId=AV18_yw6I9MCFAZN&categoryType=CODE&problemTitle=&orderBy=FIRST_REG_DATETIME&selectCodeLang=PYTHON&select-1=2&pageSize=10&pageIndex=3)"
   ]
  },
  {
   "cell_type": "code",
   "execution_count": null,
   "metadata": {},
   "outputs": [],
   "source": [
    "test_num = int(input())\n",
    " \n",
    "for i in range(0, test_num):\n",
    "    num_set = []\n",
    "    ipt_n = input()\n",
    "    temp_num = int(ipt_n)\n",
    "    count = 1\n",
    "    while num_set != ['0', '1', '2', '3', '4', '5', '6', '7', '8', '9']:\n",
    "        for elem in ipt_n:\n",
    "            if elem in num_set:\n",
    "                pass\n",
    "            else:\n",
    "                num_set.append(elem)\n",
    "                num_set.sort()\n",
    "        count = count + 1\n",
    "        ipt_n = str(temp_num * count)\n",
    "    print(f\"#{i+1} {temp_num * (count - 1)}\")"
   ]
  },
  {
   "attachments": {},
   "cell_type": "markdown",
   "metadata": {},
   "source": [
    "### 1928. Base64 Decoder\n",
    "\n",
    "[문제 출처](https://swexpertacademy.com/main/code/problem/problemDetail.do?problemLevel=2&contestProbId=AV5PR4DKAG0DFAUq&categoryId=AV5PR4DKAG0DFAUq&categoryType=CODE&problemTitle=&orderBy=FIRST_REG_DATETIME&selectCodeLang=PYTHON&select-1=2&pageSize=10&pageIndex=3)"
   ]
  },
  {
   "cell_type": "code",
   "execution_count": null,
   "metadata": {},
   "outputs": [],
   "source": [
    "base64_encoding = {'A': 0, 'B': 1, 'C': 2, 'D': 3, 'E': 4, 'F': 5, 'G': 6, 'H': 7, 'I': 8, 'J': 9, 'K': 10, 'L': 11,\n",
    " 'M': 12, 'N': 13, 'O': 14, 'P': 15, 'Q': 16, 'R': 17, 'S': 18, 'T': 19, 'U': 20, 'V': 21, 'W': 22, 'X': 23, 'Y': 24,\n",
    " 'Z': 25, 'a': 26, 'b': 27, 'c': 28, 'd': 29, 'e': 30, 'f': 31, 'g': 32, 'h': 33, 'i': 34, 'j': 35, 'k': 36, 'l': 37,\n",
    " 'm': 38, 'n': 39, 'o': 40, 'p': 41, 'q': 42, 'r': 43, 's': 44, 't': 45, 'u': 46, 'v': 47, 'w': 48, 'x': 49, 'y': 50,\n",
    " 'z': 51, '0': 52, '1': 53, '2': 54, '3': 55, '4': 56, '5': 57, '6': 58, '7': 59, '8': 60, '9': 61, '+': 62, '/': 63}\n",
    " \n",
    "test = int(input())\n",
    " \n",
    "for i in range(0, test):\n",
    "    base64_str = input()\n",
    "    bin_num = \"\"\n",
    " \n",
    "    for item in base64_str:\n",
    "        tmp_str = str(bin(base64_encoding[item])).zfill(7)\n",
    "        idx_b = tmp_str.index('b')\n",
    "        temp = tmp_str[:idx_b] + tmp_str[idx_b+1:]\n",
    "        if len(temp) == 7:\n",
    "            temp = temp[1:]\n",
    "        bin_num = bin_num + temp\n",
    " \n",
    "    new_str = \"\"\n",
    "    str_idx = 0\n",
    "    while str_idx < len(bin_num):\n",
    "        new_str = new_str + chr(int(bin_num[str_idx:str_idx+8], 2))\n",
    "        str_idx = str_idx + 8\n",
    " \n",
    "    print(f\"#{i+1} {new_str}\")"
   ]
  },
  {
   "cell_type": "code",
   "execution_count": 13,
   "metadata": {},
   "outputs": [
    {
     "name": "stdout",
     "output_type": "stream",
     "text": [
      "#1 Life itself is a quotation.\n"
     ]
    }
   ],
   "source": [
    "from string import ascii_lowercase, ascii_uppercase\n",
    "\n",
    "base64_encoder = {}\n",
    "\n",
    "for alpt, idx in enumerate(list(ascii_uppercase) + list(ascii_lowercase) + [str(i) for i in range(0, 10)] + ['+', '/']):\n",
    "    base64_encoder[idx] = alpt\n",
    "\n",
    "test = int(input())\n",
    "\n",
    "for i in range(0, test):\n",
    "    ipt_str = input()\n",
    "    bin_num = \"\"\n",
    "\n",
    "    for letter in ipt_str:\n",
    "        tmp_str = str(bin(base64_encoder[letter]).zfill(7))\n",
    "        idx_b = tmp_str.index('b')\n",
    "        tmp_str = tmp_str[:idx_b] + tmp_str[idx_b+1:]\n",
    "        if len(tmp_str) == 7:\n",
    "            tmp_str = tmp_str[1:]\n",
    "        bin_num = bin_num + tmp_str\n",
    "    \n",
    "    bin_idx = 0\n",
    "    encoding_str = \"\"\n",
    "    while bin_idx < len(bin_num):\n",
    "        encoding_str = encoding_str + chr(int(bin_num[bin_idx:bin_idx+8], 2))\n",
    "        bin_idx = bin_idx + 8\n",
    "    \n",
    "    print(f\"#{i+1} {encoding_str}\")\n",
    "\n"
   ]
  },
  {
   "attachments": {},
   "cell_type": "markdown",
   "metadata": {},
   "source": [
    "### 1940. 가랏! RC카!\n",
    "\n",
    "[문제 출처](https://swexpertacademy.com/main/code/problem/problemDetail.do?problemLevel=2&contestProbId=AV5PjMgaALgDFAUq&categoryId=AV5PjMgaALgDFAUq&categoryType=CODE&problemTitle=&orderBy=FIRST_REG_DATETIME&selectCodeLang=PYTHON&select-1=2&pageSize=10&pageIndex=3)\n",
    "\n",
    "문제가 조금 이상... 물리에서 말하는 가속도의 개념이 아닌 듯..."
   ]
  },
  {
   "cell_type": "code",
   "execution_count": 17,
   "metadata": {},
   "outputs": [
    {
     "name": "stdout",
     "output_type": "stream",
     "text": [
      "7\n"
     ]
    }
   ],
   "source": [
    "test = int(input())\n",
    "\n",
    "for test_num in range(0, test):\n",
    "    cur_velo, rc_dist = 0, 0\n",
    "    time_set = int(input())\n",
    "\n",
    "    for time_sec in range(0, time_set):\n",
    "        opt_set = list(map(int, input().split()))\n",
    "        if opt_set[0] == 0:\n",
    "            pass\n",
    "        elif opt_set[0] == 1:\n",
    "            cur_velo = cur_velo + opt_set[1]\n",
    "        else:\n",
    "            if cur_velo - opt_set[1] < 0:\n",
    "                cur_velo = 0\n",
    "            else:\n",
    "                cur_velo = cur_velo - opt_set[1]\n",
    "        rc_dist = rc_dist + cur_velo\n",
    "\n",
    "    print(f\"#{test_num + 1} {rc_dist}\")"
   ]
  },
  {
   "cell_type": "code",
   "execution_count": null,
   "metadata": {},
   "outputs": [],
   "source": [
    "test = int(input())\n",
    "\n",
    "for test_num in range(0, test):\n",
    "    cur_velo, rc_dist = 0, 0\n",
    "    time_set = int(input())\n",
    "\n",
    "    for time_sec in range(0, time_set):\n",
    "        opt_set = list(map(int, input().split()))\n",
    "        if opt_set[0] == 0:\n",
    "            pass\n",
    "        elif opt_set[0] == 1:\n",
    "            cur_velo += opt_set[1]\n",
    "        else:\n",
    "            if cur_velo - opt_set[1] < 0:\n",
    "                cur_velo = 0\n",
    "            else:\n",
    "                cur_velo -= opt_set[1]\n",
    "        rc_dist += cur_velo\n",
    "\n",
    "    print(f\"#{test_num + 1} {rc_dist}\")"
   ]
  },
  {
   "attachments": {},
   "cell_type": "markdown",
   "metadata": {},
   "source": [
    "### 1945. 간단한 소인수분해\n",
    "\n",
    "[문제 출처](https://swexpertacademy.com/main/code/problem/problemDetail.do?problemLevel=2&contestProbId=AV5Pl0Q6ANQDFAUq&categoryId=AV5Pl0Q6ANQDFAUq&categoryType=CODE&problemTitle=&orderBy=FIRST_REG_DATETIME&selectCodeLang=PYTHON&select-1=2&pageSize=10&pageIndex=2)"
   ]
  },
  {
   "cell_type": "code",
   "execution_count": 22,
   "metadata": {},
   "outputs": [
    {
     "name": "stdout",
     "output_type": "stream",
     "text": [
      "#1 6 1 2 3 0\n"
     ]
    }
   ],
   "source": [
    "factor_num = [2, 3, 5, 7, 11]\n",
    "div_num = 2\n",
    "\n",
    "test = int(input())\n",
    "\n",
    "for i in range(0, test):\n",
    "    num = int(input())\n",
    "    div_factor = []\n",
    "    \n",
    "    for div_num in factor_num:\n",
    "        bool_set = True\n",
    "        while bool_set:\n",
    "            if num % div_num == 0:\n",
    "                num = num // div_num\n",
    "                div_factor.append(div_num)\n",
    "            else:\n",
    "                bool_set = False\n",
    "\n",
    "    print(f\"#{i+1} {div_factor.count(2)} {div_factor.count(3)} {div_factor.count(5)} {div_factor.count(7)} {div_factor.count(11)}\")"
   ]
  },
  {
   "cell_type": "code",
   "execution_count": 11,
   "metadata": {},
   "outputs": [
    {
     "name": "stdout",
     "output_type": "stream",
     "text": [
      "#1 1 1 2 \n",
      "#2 2 1 \n"
     ]
    }
   ],
   "source": [
    "test = int(input())\n",
    "\n",
    "for i in range(0, test):\n",
    "    factor_num = 2\n",
    "    factor_list = []\n",
    "    number = int(input())\n",
    "\n",
    "    while True:\n",
    "        if number % factor_num == 0:\n",
    "            factor_list.append(factor_num)\n",
    "            number = number // factor_num\n",
    "            if number == 1:\n",
    "                break\n",
    "        else:\n",
    "            factor_num += 1\n",
    "\n",
    "    print(f\"#{i+1}\", end=\" \")\n",
    "    for item in set(factor_list):\n",
    "        # print(f\"{item}:{factor_list.count(item)}개\", end=\" \")\n",
    "        print(f\"{factor_list.count(item)}\", end=\" \")\n",
    "    \n",
    "    print(end=\"\\n\")\n"
   ]
  },
  {
   "attachments": {},
   "cell_type": "markdown",
   "metadata": {},
   "source": [
    "### 다음 문제 가즈아~"
   ]
  },
  {
   "cell_type": "code",
   "execution_count": null,
   "metadata": {},
   "outputs": [],
   "source": []
  }
 ],
 "metadata": {
  "kernelspec": {
   "display_name": "python-algorithm",
   "language": "python",
   "name": "python3"
  },
  "language_info": {
   "codemirror_mode": {
    "name": "ipython",
    "version": 3
   },
   "file_extension": ".py",
   "mimetype": "text/x-python",
   "name": "python",
   "nbconvert_exporter": "python",
   "pygments_lexer": "ipython3",
   "version": "3.10.9"
  },
  "orig_nbformat": 4,
  "vscode": {
   "interpreter": {
    "hash": "3f5c3209c8a6944ca58e989ae8883df0247658d8cec7699efddf8abb307854b8"
   }
  }
 },
 "nbformat": 4,
 "nbformat_minor": 2
}
