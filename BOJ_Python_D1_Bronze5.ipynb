{
 "cells": [
  {
   "cell_type": "code",
   "execution_count": null,
   "metadata": {},
   "outputs": [],
   "source": []
  }
 ],
 "metadata": {
  "kernelspec": {
   "display_name": "python-algorithm",
   "language": "python",
   "name": "python3"
  },
  "language_info": {
   "name": "python",
   "version": "3.10.9"
  },
  "orig_nbformat": 4,
  "vscode": {
   "interpreter": {
    "hash": "79ea9fce8105574269133ecc165885ac9f8c716532e13b357614b6adc01d1ee7"
   }
  }
 },
 "nbformat": 4,
 "nbformat_minor": 2
}
