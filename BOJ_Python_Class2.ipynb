{
 "cells": [
  {
   "attachments": {},
   "cell_type": "markdown",
   "metadata": {},
   "source": [
    "### 1085. 직사각형에서 탈출\n",
    "\n",
    "<b>Bronze 3\n",
    "\n",
    "[문제 출처](https://www.acmicpc.net/problem/1085)"
   ]
  },
  {
   "cell_type": "code",
   "execution_count": 11,
   "metadata": {},
   "outputs": [
    {
     "name": "stdout",
     "output_type": "stream",
     "text": [
      "1\n"
     ]
    }
   ],
   "source": [
    "x, y, w, h = map(int, input().split())\n",
    "\n",
    "if x >= w-x:\n",
    "    if y >= h-y:\n",
    "        if w-x >= h-y:\n",
    "            print(h-y)\n",
    "        else:\n",
    "            print(w-x)\n",
    "    else:\n",
    "        if w-x >= y:\n",
    "            print(y)\n",
    "        else:\n",
    "            print(w-x)\n",
    "else:\n",
    "    if y >= h-y:\n",
    "        if x >= h-y:\n",
    "            print(h-y)\n",
    "        else:\n",
    "            print(x)\n",
    "    else:\n",
    "        if x >= y:\n",
    "            print(y)\n",
    "        else:\n",
    "            print(x)\n"
   ]
  },
  {
   "cell_type": "code",
   "execution_count": 12,
   "metadata": {},
   "outputs": [
    {
     "name": "stdout",
     "output_type": "stream",
     "text": [
      "161\n"
     ]
    }
   ],
   "source": [
    "x, y, w, h = map(int, input().split())\n",
    "\n",
    "res = min([x, y, w-x, h-y])\n",
    "print(res)"
   ]
  },
  {
   "attachments": {},
   "cell_type": "markdown",
   "metadata": {},
   "source": [
    "### 4153. 직각삼각형\n",
    "\n",
    "<b> Bronze 3\n",
    "\n",
    "[문제 출처](https://www.acmicpc.net/problem/4153)"
   ]
  },
  {
   "cell_type": "code",
   "execution_count": 14,
   "metadata": {},
   "outputs": [
    {
     "name": "stdout",
     "output_type": "stream",
     "text": [
      "right\n",
      "wrong\n",
      "right\n"
     ]
    }
   ],
   "source": [
    "while True:\n",
    "    line = list(map(int, input().split()))\n",
    "    line.sort()\n",
    "    \n",
    "    if line[0] == 0 and line[1] == 0 and line[2] == 0:\n",
    "        break\n",
    "\n",
    "    if line[2]**2 == line[0]**2 + line[1]**2:\n",
    "        print(\"right\")\n",
    "    else:\n",
    "        print(\"wrong\")"
   ]
  }
 ],
 "metadata": {
  "kernelspec": {
   "display_name": "python-algorithm",
   "language": "python",
   "name": "python3"
  },
  "language_info": {
   "codemirror_mode": {
    "name": "ipython",
    "version": 3
   },
   "file_extension": ".py",
   "mimetype": "text/x-python",
   "name": "python",
   "nbconvert_exporter": "python",
   "pygments_lexer": "ipython3",
   "version": "3.10.9"
  },
  "orig_nbformat": 4
 },
 "nbformat": 4,
 "nbformat_minor": 2
}
