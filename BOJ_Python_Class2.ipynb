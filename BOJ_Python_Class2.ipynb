{
 "cells": [
  {
   "attachments": {},
   "cell_type": "markdown",
   "metadata": {},
   "source": [
    "### 1085. 직사각형에서 탈출\n",
    "\n",
    "<b>Bronze 3\n",
    "\n",
    "[문제 출처](https://www.acmicpc.net/problem/1085)"
   ]
  },
  {
   "cell_type": "code",
   "execution_count": 11,
   "metadata": {},
   "outputs": [
    {
     "name": "stdout",
     "output_type": "stream",
     "text": [
      "1\n"
     ]
    }
   ],
   "source": [
    "x, y, w, h = map(int, input().split())\n",
    "\n",
    "if x >= w-x:\n",
    "    if y >= h-y:\n",
    "        if w-x >= h-y:\n",
    "            print(h-y)\n",
    "        else:\n",
    "            print(w-x)\n",
    "    else:\n",
    "        if w-x >= y:\n",
    "            print(y)\n",
    "        else:\n",
    "            print(w-x)\n",
    "else:\n",
    "    if y >= h-y:\n",
    "        if x >= h-y:\n",
    "            print(h-y)\n",
    "        else:\n",
    "            print(x)\n",
    "    else:\n",
    "        if x >= y:\n",
    "            print(y)\n",
    "        else:\n",
    "            print(x)\n"
   ]
  },
  {
   "cell_type": "code",
   "execution_count": 12,
   "metadata": {},
   "outputs": [
    {
     "name": "stdout",
     "output_type": "stream",
     "text": [
      "161\n"
     ]
    }
   ],
   "source": [
    "x, y, w, h = map(int, input().split())\n",
    "\n",
    "res = min([x, y, w-x, h-y])\n",
    "print(res)"
   ]
  },
  {
   "attachments": {},
   "cell_type": "markdown",
   "metadata": {},
   "source": [
    "### 4153. 직각삼각형\n",
    "\n",
    "<b> Bronze 3\n",
    "\n",
    "[문제 출처](https://www.acmicpc.net/problem/4153)"
   ]
  },
  {
   "cell_type": "code",
   "execution_count": 14,
   "metadata": {},
   "outputs": [
    {
     "name": "stdout",
     "output_type": "stream",
     "text": [
      "right\n",
      "wrong\n",
      "right\n"
     ]
    }
   ],
   "source": [
    "while True:\n",
    "    line = list(map(int, input().split()))\n",
    "    line.sort()\n",
    "    \n",
    "    if line[0] == 0 and line[1] == 0 and line[2] == 0:\n",
    "        break\n",
    "\n",
    "    if line[2]**2 == line[0]**2 + line[1]**2:\n",
    "        print(\"right\")\n",
    "    else:\n",
    "        print(\"wrong\")"
   ]
  },
  {
   "attachments": {},
   "cell_type": "markdown",
   "metadata": {},
   "source": [
    "### 10250. ACM 호텔\n",
    "\n",
    "<b> Bronze 3\n",
    "\n",
    "[문제 출처](https://www.acmicpc.net/problem/10250)"
   ]
  },
  {
   "cell_type": "code",
   "execution_count": 3,
   "metadata": {},
   "outputs": [
    {
     "name": "stdout",
     "output_type": "stream",
     "text": [
      "1203\n"
     ]
    }
   ],
   "source": [
    "tc = int(input())\n",
    "\n",
    "for t in range(tc):\n",
    "    h, w, n = map(int, input().split())\n",
    "\n",
    "    floor, num, count = 0, 0, 0\n",
    "\n",
    "    for i in range(1, w+1):\n",
    "        for j in range(1, h+1):\n",
    "            count += 1\n",
    "            if count == n:\n",
    "                num = str(i).zfill(2)\n",
    "                floor = str(j)\n",
    "                break\n",
    "        if count == n:\n",
    "            break\n",
    "\n",
    "    print(f\"{floor}{num}\")"
   ]
  },
  {
   "attachments": {},
   "cell_type": "markdown",
   "metadata": {},
   "source": [
    "### 2231. 분해합\n",
    "\n",
    "<b> Bronze 2\n",
    "\n",
    "[문제 출처](https://www.acmicpc.net/problem/2231)"
   ]
  },
  {
   "cell_type": "code",
   "execution_count": 12,
   "metadata": {},
   "outputs": [
    {
     "name": "stdout",
     "output_type": "stream",
     "text": [
      "198\n"
     ]
    }
   ],
   "source": [
    "n = int(input())\n",
    "res = 0\n",
    "\n",
    "for i in range(1, n+1):\n",
    "    num = list(map(int, str(i)))\n",
    "    con = i + sum(num)\n",
    "    \n",
    "    if con == n:\n",
    "        res = i\n",
    "        break\n",
    "\n",
    "print(res)"
   ]
  },
  {
   "attachments": {},
   "cell_type": "markdown",
   "metadata": {},
   "source": [
    "### 2292. 벌집\n",
    "\n",
    "<b> Bronze 2\n",
    "\n",
    "[문제 출처](https://www.acmicpc.net/problem/2292)"
   ]
  },
  {
   "cell_type": "code",
   "execution_count": null,
   "metadata": {},
   "outputs": [],
   "source": []
  }
 ],
 "metadata": {
  "kernelspec": {
   "display_name": "python-algorithm",
   "language": "python",
   "name": "python3"
  },
  "language_info": {
   "codemirror_mode": {
    "name": "ipython",
    "version": 3
   },
   "file_extension": ".py",
   "mimetype": "text/x-python",
   "name": "python",
   "nbconvert_exporter": "python",
   "pygments_lexer": "ipython3",
   "version": "3.10.9"
  },
  "orig_nbformat": 4
 },
 "nbformat": 4,
 "nbformat_minor": 2
}
